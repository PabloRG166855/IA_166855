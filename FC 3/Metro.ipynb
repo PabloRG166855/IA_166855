{
 "cells": [
  {
   "cell_type": "code",
   "execution_count": 1,
   "id": "6f68644e",
   "metadata": {},
   "outputs": [],
   "source": [
    "import pandas as pd\n",
    "import numpy as np\n",
    "import random\n",
    "import matplotlib.pyplot as plt\n",
    "import networkx as nx"
   ]
  },
  {
   "cell_type": "code",
   "execution_count": 2,
   "id": "5fe63ef6",
   "metadata": {},
   "outputs": [],
   "source": [
    "# mat = pd.read_csv(\"matcsv.csv\", header = None)\n",
    "mat = np.genfromtxt('matcsv.csv', delimiter=',', dtype = int)"
   ]
  },
  {
   "cell_type": "code",
   "execution_count": 3,
   "id": "8badf8e2",
   "metadata": {},
   "outputs": [],
   "source": [
    "names = {\n",
    "    0: \"El Rosario\",\n",
    "    1: \"Politécnico\",\n",
    "    2: \"Instituto del Petróleo\",\n",
    "    3: \"Indios Verdes\",\n",
    "    4: \"Deportivo 18 de Marzo\",\n",
    "    5: \"Martín Carrera\",\n",
    "    6: \"La Raza\",\n",
    "    7: \"Cuatro Caminos\",\n",
    "    8: \"Tacuba\",\n",
    "    9: \"Consulado\",\n",
    "    10: \"Ciudad Azteca\",\n",
    "    11: \"Guerrero\",\n",
    "    12: \"Garibaldi\",\n",
    "    13: \"Morelos\",\n",
    "    14: \"Oceanía\",\n",
    "    15: \"Hidalgo\",\n",
    "    16: \"Bellas Artes\",\n",
    "    17: \"Balderas\",\n",
    "    18: \"Salto del Agua\",\n",
    "    19: \"Pino Suárez\",\n",
    "    20: \"Candelaria\",\n",
    "    21: \"San Lázaro\",\n",
    "    22: \"Tacubaya\",\n",
    "    23: \"Centro Médico\",\n",
    "    24: \"Chabacano\",\n",
    "    25: \"Jamaica\",\n",
    "    26: \"Pantitlán\",\n",
    "    27: \"Mixcoac\",\n",
    "    28: \"Zapata\",\n",
    "    29: \"Ermita\",\n",
    "    30: \"Atlalilco\",\n",
    "    31: \"Barranca del Muerto\",\n",
    "    32: \"Universidad\",\n",
    "    33: \"Tasqueña\",\n",
    "    34: \"Tláhuac\"\n",
    "}"
   ]
  },
  {
   "cell_type": "code",
   "execution_count": 4,
   "id": "d70e09af",
   "metadata": {},
   "outputs": [],
   "source": [
    "adjacencies = {}\n",
    "\n",
    "for i in range(len(mat)):\n",
    "    adjacencies[i] = []\n",
    "    for j in range(len(mat[0])):\n",
    "        if(mat[i][j] != 10000):\n",
    "            adjacencies[i].append(j)"
   ]
  },
  {
   "cell_type": "code",
   "execution_count": 5,
   "id": "97307622",
   "metadata": {},
   "outputs": [
    {
     "data": {
      "text/plain": [
       "{0: [2, 8],\n",
       " 1: [2],\n",
       " 2: [0, 1, 4, 6],\n",
       " 3: [4],\n",
       " 4: [2, 3, 5, 6],\n",
       " 5: [4],\n",
       " 6: [2, 4, 9, 11],\n",
       " 7: [8],\n",
       " 8: [0, 7, 15, 22],\n",
       " 9: [6, 13, 14],\n",
       " 10: [14],\n",
       " 11: [6, 12, 15],\n",
       " 12: [11, 13, 16],\n",
       " 13: [9, 12, 20, 21],\n",
       " 14: [9, 10, 21, 26],\n",
       " 15: [8, 11, 16, 17],\n",
       " 16: [12, 15, 18, 19],\n",
       " 17: [15, 18, 22, 23],\n",
       " 18: [16, 17, 19, 24],\n",
       " 19: [16, 18, 20, 24],\n",
       " 20: [13, 19, 21, 25],\n",
       " 21: [13, 14, 20, 26],\n",
       " 22: [8, 17, 27],\n",
       " 23: [17, 24, 28],\n",
       " 24: [18, 19, 23, 25, 29, 30],\n",
       " 25: [20, 24, 26, 30],\n",
       " 26: [14, 21, 25],\n",
       " 27: [22, 28, 31],\n",
       " 28: [23, 27, 29, 32],\n",
       " 29: [24, 28, 30, 33],\n",
       " 30: [24, 25, 29, 34],\n",
       " 31: [27],\n",
       " 32: [28],\n",
       " 33: [29],\n",
       " 34: [30]}"
      ]
     },
     "execution_count": 5,
     "metadata": {},
     "output_type": "execute_result"
    }
   ],
   "source": [
    "adjacencies"
   ]
  },
  {
   "cell_type": "markdown",
   "id": "2cbbfaf5",
   "metadata": {},
   "source": [
    "# Initial Population"
   ]
  },
  {
   "cell_type": "code",
   "execution_count": 6,
   "id": "f81433f8",
   "metadata": {},
   "outputs": [],
   "source": [
    "population_size = 10\n",
    "mutation_rate = 0.4\n",
    "number_generations = 25"
   ]
  },
  {
   "cell_type": "code",
   "execution_count": 7,
   "id": "132e17e9",
   "metadata": {},
   "outputs": [],
   "source": [
    "# def generate_population(adjacencies, population_size = 100):\n",
    "\n",
    "#     populations = []\n",
    "\n",
    "#     for i in range(population_size):\n",
    "\n",
    "#         solution = [0]\n",
    "#         forbidden = [1, 3, 5, 7, 10, 31, 32, 33, 34]\n",
    "\n",
    "#         while(solution[-1] != 21):\n",
    "#             next_node = random.choice(adjacencies[solution[-1]])\n",
    "#             if (next_node in forbidden): \n",
    "#                 continue\n",
    "#             else:\n",
    "#                 solution.append(next_node)\n",
    "\n",
    "#         populations.append(solution)\n",
    "    \n",
    "#     return populations"
   ]
  },
  {
   "cell_type": "code",
   "execution_count": 8,
   "id": "d794ea1f",
   "metadata": {},
   "outputs": [],
   "source": [
    "def generate_population(adjacencies, population_size = 100):\n",
    "\n",
    "    populations = []\n",
    "\n",
    "    for i in range(population_size):\n",
    "\n",
    "        solution = [0]\n",
    "\n",
    "        while(solution[-1] != 21):\n",
    "            next_node = random.choice(adjacencies[solution[-1]])\n",
    "            solution.append(next_node)\n",
    "\n",
    "        populations.append(solution)\n",
    "    \n",
    "    return populations"
   ]
  },
  {
   "cell_type": "code",
   "execution_count": 9,
   "id": "b5b3db53",
   "metadata": {},
   "outputs": [],
   "source": [
    "population = generate_population(adjacencies, population_size)"
   ]
  },
  {
   "cell_type": "markdown",
   "id": "5ffb32ba",
   "metadata": {},
   "source": [
    "# Fitness Function"
   ]
  },
  {
   "cell_type": "code",
   "execution_count": 10,
   "id": "b26e5980",
   "metadata": {},
   "outputs": [],
   "source": [
    "def fitness(solution):\n",
    "    \n",
    "    current_index = 0\n",
    "    distance = 0\n",
    "    \n",
    "    while(solution[current_index] != 21):\n",
    "        start = solution[current_index]\n",
    "        end = solution[current_index + 1]\n",
    "        \n",
    "        distance += mat[start][end]\n",
    "        \n",
    "        current_index += 1\n",
    "    \n",
    "    if(distance >= 10000):\n",
    "        return 0\n",
    "    else:\n",
    "        return 1/distance"
   ]
  },
  {
   "cell_type": "markdown",
   "id": "6aab824e",
   "metadata": {},
   "source": [
    "# Selection of Population"
   ]
  },
  {
   "cell_type": "code",
   "execution_count": 11,
   "id": "51ebbe00",
   "metadata": {},
   "outputs": [],
   "source": [
    "def selection(population):\n",
    "    \n",
    "    total_fitness = sum(fitness(solution) for solution in population)\n",
    "    probabilities = [fitness(solution)/total_fitness for solution in population]\n",
    "    selected = []\n",
    "    \n",
    "    for i in range(len(population)):\n",
    "        chosen = random.choices(population, weights = probabilities)[0]\n",
    "        selected.append(chosen)\n",
    "    \n",
    "    return selected"
   ]
  },
  {
   "cell_type": "code",
   "execution_count": 12,
   "id": "77d85fbe",
   "metadata": {},
   "outputs": [],
   "source": [
    "selected = selection(population)"
   ]
  },
  {
   "cell_type": "markdown",
   "id": "c4a041fc",
   "metadata": {},
   "source": [
    "# Crossover Function"
   ]
  },
  {
   "cell_type": "code",
   "execution_count": 13,
   "id": "f4049b4c",
   "metadata": {},
   "outputs": [],
   "source": [
    "def crossover(parent1, parent2):\n",
    "    \n",
    "    intersection = list(set(parent1) & set(parent2))\n",
    "    \n",
    "    proceed = False\n",
    "    crossover_point = 0\n",
    "    \n",
    "    while(not proceed):\n",
    "        crossover_point = random.randint(0, len(parent1)-1)\n",
    "        if(parent1[crossover_point] in intersection):\n",
    "            proceed = True\n",
    "    \n",
    "    value = parent1[crossover_point]\n",
    "#     cut_point1 = len(parent2) - 1 - parent2[::-1].index(value)\n",
    "#     cut_point2 = parent1.index(value)\n",
    "    \n",
    "    child1 = parent1[:crossover_point] + parent2[parent2.index(value):]\n",
    "    child2 = parent2[:parent2.index(value)] + parent1[crossover_point:]\n",
    "    \n",
    "#     print(crossover_point, parent2.index(value))\n",
    "    \n",
    "    return child1, child2"
   ]
  },
  {
   "cell_type": "markdown",
   "id": "4b3470b9",
   "metadata": {},
   "source": [
    "# Mutation Rate"
   ]
  },
  {
   "cell_type": "code",
   "execution_count": 14,
   "id": "8dbfce80",
   "metadata": {},
   "outputs": [],
   "source": [
    "def mutation(solution, mutation_rate = 0.1):\n",
    "     \n",
    "    mutated_solution = solution.copy()\n",
    "    \n",
    "    for i in range(1,len(solution)-1):\n",
    "        if random.random() < mutation_rate:\n",
    "            mutated_solution[i] = random.choice(adjacencies[solution[i]])\n",
    "            \n",
    "    return mutated_solution"
   ]
  },
  {
   "cell_type": "markdown",
   "id": "8c9d6f86",
   "metadata": {},
   "source": [
    "# Running of the Algorithm"
   ]
  },
  {
   "cell_type": "code",
   "execution_count": 15,
   "id": "22ec1aa9",
   "metadata": {},
   "outputs": [
    {
     "name": "stdout",
     "output_type": "stream",
     "text": [
      "Solution found in generation 1\n",
      "Action sequence: [0, 2, 6, 11, 12, 13, 21]\n",
      "Solution found in generation 2\n",
      "Action sequence: [0, 2, 6, 9, 14, 21]\n",
      "Solution found in generation 3\n",
      "Action sequence: [0, 2, 6, 9, 14, 21]\n",
      "Solution found in generation 4\n",
      "Action sequence: [0, 2, 6, 9, 14, 21]\n",
      "Solution found in generation 5\n",
      "Action sequence: [0, 2, 6, 9, 14, 21]\n",
      "Solution found in generation 6\n",
      "Action sequence: [0, 2, 6, 9, 14, 21]\n",
      "Solution found in generation 7\n",
      "Action sequence: [0, 2, 6, 9, 14, 21]\n",
      "Solution found in generation 8\n",
      "Action sequence: [0, 2, 6, 9, 14, 21]\n",
      "Solution found in generation 9\n",
      "Action sequence: [0, 2, 6, 9, 14, 21]\n",
      "Solution found in generation 10\n",
      "Action sequence: [0, 2, 6, 9, 14, 21]\n",
      "Solution found in generation 11\n",
      "Action sequence: [0, 2, 6, 9, 14, 21]\n",
      "Solution found in generation 12\n",
      "Action sequence: [0, 2, 6, 9, 14, 21]\n",
      "Solution found in generation 13\n",
      "Action sequence: [0, 2, 6, 9, 14, 21]\n",
      "Solution found in generation 14\n",
      "Action sequence: [0, 2, 6, 9, 14, 21]\n",
      "Solution found in generation 15\n",
      "Action sequence: [0, 2, 6, 9, 14, 21]\n",
      "Solution found in generation 16\n",
      "Action sequence: [0, 2, 6, 9, 14, 21]\n",
      "Solution found in generation 17\n",
      "Action sequence: [0, 2, 6, 9, 14, 21]\n",
      "Solution found in generation 18\n",
      "Action sequence: [0, 2, 6, 9, 14, 21]\n",
      "Solution found in generation 19\n",
      "Action sequence: [0, 2, 6, 9, 14, 21]\n",
      "Solution found in generation 20\n",
      "Action sequence: [0, 2, 6, 9, 14, 21]\n",
      "Solution found in generation 21\n",
      "Action sequence: [0, 2, 6, 9, 14, 21]\n",
      "Solution found in generation 22\n",
      "Action sequence: [0, 2, 6, 9, 14, 21]\n",
      "Solution found in generation 23\n",
      "Action sequence: [0, 2, 6, 9, 14, 21]\n",
      "Solution found in generation 24\n",
      "Action sequence: [0, 2, 6, 9, 14, 21]\n",
      "Solution found in generation 25\n",
      "Action sequence: [0, 2, 6, 9, 14, 21]\n"
     ]
    }
   ],
   "source": [
    "for generation in range(number_generations):\n",
    "    \n",
    "    parents = selection(population)\n",
    "    \n",
    "    offspring = []\n",
    "    for i in range(population_size//2):\n",
    "        parent1 = random.choice(parents)\n",
    "        parent2 = random.choice(parents)\n",
    "        \n",
    "        child1, child2 = crossover(parent1, parent2)\n",
    "        \n",
    "        offspring.append(child1)\n",
    "        offspring.append(child2)\n",
    "        \n",
    "    offspring = [mutation(solution) for solution in offspring]\n",
    "    \n",
    "    population = offspring\n",
    "    \n",
    "    best_solution = max(population, key = fitness)\n",
    "    \n",
    "    print(\"Solution found in generation\", generation+1)\n",
    "    print(\"Action sequence:\", best_solution)"
   ]
  },
  {
   "cell_type": "code",
   "execution_count": 16,
   "id": "2ec5a493",
   "metadata": {},
   "outputs": [],
   "source": [
    "d1 = 1/fitness([0, 8, 15, 8, 15, 17, 15, 11, 6, 9, 13, 20, 13, 9, 14, 21])\n",
    "d2 = 1/fitness([0, 2, 6, 9, 13, 21])"
   ]
  },
  {
   "cell_type": "code",
   "execution_count": 17,
   "id": "6cd374a0",
   "metadata": {},
   "outputs": [
    {
     "name": "stdout",
     "output_type": "stream",
     "text": [
      "47.0 14.0\n"
     ]
    }
   ],
   "source": [
    "print(d1, d2)"
   ]
  },
  {
   "cell_type": "code",
   "execution_count": 18,
   "id": "729f4f6c",
   "metadata": {},
   "outputs": [
    {
     "name": "stdout",
     "output_type": "stream",
     "text": [
      "El Rosario\n",
      "Instituto del Petróleo\n",
      "La Raza\n",
      "Consulado\n",
      "Morelos\n",
      "San Lázaro\n"
     ]
    }
   ],
   "source": [
    "sol = [0, 2, 6, 9, 13, 21]\n",
    "for estation in sol:\n",
    "    print(names[estation])"
   ]
  }
 ],
 "metadata": {
  "kernelspec": {
   "display_name": "Python 3 (ipykernel)",
   "language": "python",
   "name": "python3"
  },
  "language_info": {
   "codemirror_mode": {
    "name": "ipython",
    "version": 3
   },
   "file_extension": ".py",
   "mimetype": "text/x-python",
   "name": "python",
   "nbconvert_exporter": "python",
   "pygments_lexer": "ipython3",
   "version": "3.11.5"
  }
 },
 "nbformat": 4,
 "nbformat_minor": 5
}
